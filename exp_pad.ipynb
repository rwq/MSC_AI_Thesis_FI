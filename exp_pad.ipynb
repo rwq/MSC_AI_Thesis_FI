{
 "cells": [
  {
   "cell_type": "code",
   "execution_count": 56,
   "metadata": {},
   "outputs": [],
   "source": [
    "import dataloader2\n",
    "import torch\n",
    "from torch.utils.data import DataLoader\n",
    "import math\n",
    "import matplotlib.pyplot as plt"
   ]
  },
  {
   "cell_type": "code",
   "execution_count": 8,
   "metadata": {},
   "outputs": [],
   "source": [
    "arguments_strPadding = 'improved'"
   ]
  },
  {
   "cell_type": "code",
   "execution_count": 3,
   "metadata": {},
   "outputs": [],
   "source": [
    "dl = DataLoader(dataloader2.adobe240_dataset())"
   ]
  },
  {
   "cell_type": "code",
   "execution_count": 59,
   "metadata": {},
   "outputs": [],
   "source": [
    "for (X1, X2), y in dl:\n",
    "    break"
   ]
  },
  {
   "cell_type": "code",
   "execution_count": 60,
   "metadata": {},
   "outputs": [
    {
     "data": {
      "text/plain": [
       "torch.Size([1, 720, 1280, 3])"
      ]
     },
     "execution_count": 60,
     "metadata": {},
     "output_type": "execute_result"
    }
   ],
   "source": [
    "X1.shape"
   ]
  },
  {
   "cell_type": "code",
   "execution_count": 61,
   "metadata": {},
   "outputs": [],
   "source": [
    "_, intHeight, intWidth, _ = X1.shape"
   ]
  },
  {
   "cell_type": "code",
   "execution_count": 62,
   "metadata": {},
   "outputs": [],
   "source": [
    "X1 = X1.permute(0,3,1,2)\n",
    "X2 = X2.permute(0,3,1,2)"
   ]
  },
  {
   "cell_type": "code",
   "execution_count": 63,
   "metadata": {},
   "outputs": [],
   "source": [
    "# paper\n",
    "if arguments_strPadding == 'paper':\n",
    "    intPaddingLeft, intPaddingTop, intPaddingBottom, intPaddingRight = int(math.floor(51 / 2.0)), int(math.floor(51 / 2.0)), int(math.floor(51 / 2.0)) ,int(math.floor(51 / 2.0))\n",
    "elif arguments_strPadding == 'improved':\n",
    "    intPaddingLeft, intPaddingTop, intPaddingBottom, intPaddingRight = 0, 0, 0, 0"
   ]
  },
  {
   "cell_type": "code",
   "execution_count": 64,
   "metadata": {},
   "outputs": [],
   "source": [
    "intPreprocessedWidth = intPaddingLeft + intWidth + intPaddingRight\n",
    "intPreprocessedHeight = intPaddingTop + intHeight + intPaddingBottom"
   ]
  },
  {
   "cell_type": "code",
   "execution_count": 65,
   "metadata": {},
   "outputs": [],
   "source": [
    "if intPreprocessedWidth != ((intPreprocessedWidth >> 7) << 7):\n",
    "    intPreprocessedWidth = (((intPreprocessedWidth >> 7) + 1) << 7)\n",
    "\n",
    "if intPreprocessedHeight != ((intPreprocessedHeight >> 7) << 7):\n",
    "        intPreprocessedHeight = (((intPreprocessedHeight >> 7) + 1) << 7) # more than necessary\n",
    "    "
   ]
  },
  {
   "cell_type": "code",
   "execution_count": 66,
   "metadata": {},
   "outputs": [
    {
     "data": {
      "text/plain": [
       "1280"
      ]
     },
     "execution_count": 66,
     "metadata": {},
     "output_type": "execute_result"
    }
   ],
   "source": [
    "intPreprocessedWidth"
   ]
  },
  {
   "cell_type": "code",
   "execution_count": 67,
   "metadata": {},
   "outputs": [],
   "source": [
    "intPaddingRight = intPreprocessedWidth - intWidth - intPaddingLeft\n",
    "intPaddingBottom = intPreprocessedHeight - intHeight - intPaddingTop\n"
   ]
  },
  {
   "cell_type": "code",
   "execution_count": 68,
   "metadata": {},
   "outputs": [],
   "source": [
    "P1 = torch.nn.functional.pad(input=X1, pad=[intPaddingLeft, intPaddingTop, intPaddingBottom, intPaddingRight], mode='replicate')\n",
    "P2 = torch.nn.functional.pad(input=X2, pad=[intPaddingLeft, intPaddingTop, intPaddingBottom, intPaddingRight], mode='replicate')"
   ]
  },
  {
   "cell_type": "code",
   "execution_count": 81,
   "metadata": {},
   "outputs": [],
   "source": [
    "O = torch.nn.functional.pad(input=P2, pad=[-intPaddingLeft, -intPaddingRight, -intPaddingTop, -intPaddingBottom], mode='replicate')"
   ]
  },
  {
   "cell_type": "code",
   "execution_count": 82,
   "metadata": {},
   "outputs": [
    {
     "data": {
      "text/plain": [
       "torch.Size([1, 3, 720, 1280])"
      ]
     },
     "execution_count": 82,
     "metadata": {},
     "output_type": "execute_result"
    }
   ],
   "source": [
    "O.shape"
   ]
  }
 ],
 "metadata": {
  "kernelspec": {
   "display_name": "Python 3",
   "language": "python",
   "name": "python3"
  },
  "language_info": {
   "codemirror_mode": {
    "name": "ipython",
    "version": 3
   },
   "file_extension": ".py",
   "mimetype": "text/x-python",
   "name": "python",
   "nbconvert_exporter": "python",
   "pygments_lexer": "ipython3",
   "version": "3.7.3"
  }
 },
 "nbformat": 4,
 "nbformat_minor": 2
}
