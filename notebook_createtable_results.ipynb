{
 "cells": [
  {
   "cell_type": "code",
   "execution_count": 1,
   "metadata": {},
   "outputs": [],
   "source": [
    "import pandas as pd\n",
    "import pickle\n",
    "import numpy as np\n",
    "import dataloader\n",
    "import torch"
   ]
  },
  {
   "cell_type": "code",
   "execution_count": 2,
   "metadata": {},
   "outputs": [],
   "source": [
    "datasets = ['Adobe240', 'UCF-101', 'Vimeo90k']\n",
    "methods = ['DAIN', 'SepConv', 'QVI', 'QVI_linear']\n",
    "metrics = ['psnr', 'ssim', 'ie']"
   ]
  },
  {
   "cell_type": "markdown",
   "metadata": {},
   "source": [
    "## Metrics"
   ]
  },
  {
   "cell_type": "markdown",
   "metadata": {},
   "source": [
    "The following metrics are reported in the benchmark, for a predicted and ground truth image frame $\\hat{I}$ and $I$ respectively:"
   ]
  },
  {
   "cell_type": "markdown",
   "metadata": {},
   "source": [
    "\\begin{equation}\n",
    "    \\mathrm{SSIM}(\\hat{I}, I) = \n",
    "    \\frac{2 \\mu_{\\hat{I}} \\mu_I + C_1}{\\mu^2_{\\hat{I}} + \\mu^2_I+C_1}\n",
    "    \\frac{2 \\sigma_{\\hat{I}} \\sigma_I + C_2}{\\sigma^2_{\\hat{I}}+\\sigma_I^2+C_2}\n",
    "    \\frac{2 \\sigma^2_{\\hat{I}} + C_3}{\\sigma_{\\hat{I}} \\sigma_I^2 + C_3}\n",
    "\\end{equation}"
   ]
  },
  {
   "cell_type": "markdown",
   "metadata": {},
   "source": [
    "$$\\mathrm{PSNR}(\\hat{I}, I) = 10 \\, \\log_{10} \\left(\\frac{R^2}{||\\hat{I}-I||_2} \\right)$$"
   ]
  },
  {
   "cell_type": "markdown",
   "metadata": {},
   "source": [
    "$$\\mathrm{IE}(\\hat{I}, I) = \\left( \n",
    "    \\frac{1}{N} \\sum_x (\\hat{I}_x - I_x)^2\n",
    "    \\right)^{1/2}$$"
   ]
  },
  {
   "cell_type": "markdown",
   "metadata": {},
   "source": [
    "## Datasets"
   ]
  },
  {
   "cell_type": "markdown",
   "metadata": {},
   "source": [
    "### Middlebury benchmark"
   ]
  },
  {
   "cell_type": "markdown",
   "metadata": {},
   "source": [
    "Baker et al. https://ps.is.mpg.de/publications/baker-ijcv-11\n",
    "\n",
    "This is the standard benchmarking dataset for frame interpolation. Aside from the publicly available test set, they also host an online evaluation system where you can submit predicted interpolated frames. The website will then calculate the metrics serverside. This ensures that the results are obtained honestly.\n",
    "\n",
    "Their work is an advancement on the earlier work of Barron et al. (https://link.springer.com/article/10.1007/BF01420984 ). The resulting dataset consists of more natural and complex scenes, making it possible to use it as a real word benchmark. It does only consist of a small set of images, so it is only useful for evaluation, not for training."
   ]
  },
  {
   "cell_type": "markdown",
   "metadata": {},
   "source": [
    "### UCF101"
   ]
  },
  {
   "cell_type": "markdown",
   "metadata": {},
   "source": [
    "Soomro et al. https://arxiv.org/abs/1212.0402"
   ]
  },
  {
   "cell_type": "markdown",
   "metadata": {},
   "source": [
    "This dataset focusses on video clips containing 'actions'. The dataset covers 101 action classes, covering applying make up, surfing and shaving. Their work is an extension of the earlier UCF50 dataset, which contained only 50 action classes (https://www.crcv.ucf.edu/research/recognizing-50-human-action-categories-of-web-videos/ ). The authors claim that the dataset is challenging, because of its wide variety of content, and because of the changing lighting conditions and low frame rate. Despite the fact that the dataset is originally used to build models to classify the action present in the video, it is also often used for video frame interpolation."
   ]
  },
  {
   "cell_type": "markdown",
   "metadata": {},
   "source": [
    "### Vimeo90K"
   ]
  },
  {
   "cell_type": "markdown",
   "metadata": {},
   "source": [
    "Xue et al. https://arxiv.org/abs/1711.09078"
   ]
  },
  {
   "cell_type": "markdown",
   "metadata": {},
   "source": [
    "The Vimeo90K dataset, named after the nearly 90.000 video sequences extracted from the original videos from Vimeo, is does not comprise of videos, but is actually already preprocessed and extracted into frames directly usable for the video frame interpolation task. Each frame sequence consists of seven consecutive frames, and each frame has a resolution of $256\\times 448$. This dataset is one of the first high quality benchmarking data sets for video frame interpolation, since the original videos were all originally 720p or of higher quality. To standardize the dataset, all videos were downsampled to $256\\times 448$."
   ]
  },
  {
   "cell_type": "markdown",
   "metadata": {},
   "source": [
    "### Adobe240"
   ]
  },
  {
   "cell_type": "markdown",
   "metadata": {},
   "source": [
    "Su et al. https://www.cs.ubc.ca/labs/imager/tr/2017/DeepVideoDeblurring/"
   ]
  },
  {
   "cell_type": "markdown",
   "metadata": {},
   "source": [
    "The Adobe240 dataset contains 133 high-quality 720p videos, i.e. having a frame size of $720 \\times 1280$. The dataset is named after its frame rate, all of these videos are recorded in 240 frames per second. The authors created this datases because they needed to create a method for deblurring videos on high frame rate video data. They recorded the videos themselves using a variety of devices, decreasing the bias towards one of the cameras and improve the generalizability."
   ]
  },
  {
   "cell_type": "markdown",
   "metadata": {},
   "source": [
    "## Benchmark"
   ]
  },
  {
   "cell_type": "code",
   "execution_count": 11,
   "metadata": {},
   "outputs": [
    {
     "data": {
      "text/html": [
       "<div>\n",
       "<style scoped>\n",
       "    .dataframe tbody tr th:only-of-type {\n",
       "        vertical-align: middle;\n",
       "    }\n",
       "\n",
       "    .dataframe tbody tr th {\n",
       "        vertical-align: top;\n",
       "    }\n",
       "\n",
       "    .dataframe thead th {\n",
       "        text-align: right;\n",
       "    }\n",
       "</style>\n",
       "<table border=\"1\" class=\"dataframe\">\n",
       "  <thead>\n",
       "    <tr style=\"text-align: right;\">\n",
       "      <th></th>\n",
       "      <th>Adobe240_psnr</th>\n",
       "      <th>Adobe240_ssim</th>\n",
       "      <th>Adobe240_ie</th>\n",
       "      <th>UCF-101_psnr</th>\n",
       "      <th>UCF-101_ssim</th>\n",
       "      <th>UCF-101_ie</th>\n",
       "      <th>Vimeo90k_psnr</th>\n",
       "      <th>Vimeo90k_ssim</th>\n",
       "      <th>Vimeo90k_ie</th>\n",
       "    </tr>\n",
       "  </thead>\n",
       "  <tbody>\n",
       "    <tr>\n",
       "      <th>DAIN</th>\n",
       "      <td>32.153012</td>\n",
       "      <td>0.988339</td>\n",
       "      <td>6.987570</td>\n",
       "      <td>27.878556</td>\n",
       "      <td>0.989216</td>\n",
       "      <td>10.920331</td>\n",
       "      <td>30.567242</td>\n",
       "      <td>0.984594</td>\n",
       "      <td>7.889040</td>\n",
       "    </tr>\n",
       "    <tr>\n",
       "      <th>SepConv</th>\n",
       "      <td>36.155629</td>\n",
       "      <td>0.992890</td>\n",
       "      <td>4.653473</td>\n",
       "      <td>35.559125</td>\n",
       "      <td>0.996604</td>\n",
       "      <td>5.154202</td>\n",
       "      <td>32.811017</td>\n",
       "      <td>0.987650</td>\n",
       "      <td>6.429720</td>\n",
       "    </tr>\n",
       "    <tr>\n",
       "      <th>QVI</th>\n",
       "      <td>34.246344</td>\n",
       "      <td>0.986623</td>\n",
       "      <td>6.210768</td>\n",
       "      <td>35.735078</td>\n",
       "      <td>0.996410</td>\n",
       "      <td>5.217945</td>\n",
       "      <td>36.820013</td>\n",
       "      <td>0.998507</td>\n",
       "      <td>3.547599</td>\n",
       "    </tr>\n",
       "    <tr>\n",
       "      <th>QVI_linear</th>\n",
       "      <td>35.018728</td>\n",
       "      <td>0.992383</td>\n",
       "      <td>5.124491</td>\n",
       "      <td>35.436220</td>\n",
       "      <td>0.996504</td>\n",
       "      <td>5.244211</td>\n",
       "      <td>36.530777</td>\n",
       "      <td>0.998404</td>\n",
       "      <td>3.667721</td>\n",
       "    </tr>\n",
       "  </tbody>\n",
       "</table>\n",
       "</div>"
      ],
      "text/plain": [
       "            Adobe240_psnr  Adobe240_ssim  Adobe240_ie  UCF-101_psnr  \\\n",
       "DAIN            32.153012       0.988339     6.987570     27.878556   \n",
       "SepConv         36.155629       0.992890     4.653473     35.559125   \n",
       "QVI             34.246344       0.986623     6.210768     35.735078   \n",
       "QVI_linear      35.018728       0.992383     5.124491     35.436220   \n",
       "\n",
       "            UCF-101_ssim  UCF-101_ie  Vimeo90k_psnr  Vimeo90k_ssim  \\\n",
       "DAIN            0.989216   10.920331      30.567242       0.984594   \n",
       "SepConv         0.996604    5.154202      32.811017       0.987650   \n",
       "QVI             0.996410    5.217945      36.820013       0.998507   \n",
       "QVI_linear      0.996504    5.244211      36.530777       0.998404   \n",
       "\n",
       "            Vimeo90k_ie  \n",
       "DAIN           7.889040  \n",
       "SepConv        6.429720  \n",
       "QVI            3.547599  \n",
       "QVI_linear     3.667721  "
      ]
     },
     "execution_count": 11,
     "metadata": {},
     "output_type": "execute_result"
    }
   ],
   "source": [
    "with open('results_new.pkl', 'rb') as f:\n",
    "    r = pickle.load(f)\n",
    "\n",
    "df = pd.DataFrame()\n",
    "\n",
    "for dataset in datasets:\n",
    "    for metric in metrics:\n",
    "        df[f'{dataset}_{metric}'] = [np.mean(r[mtd][dataset][metric]) for mtd in methods]\n",
    "\n",
    "df.index = methods\n",
    "df"
   ]
  },
  {
   "cell_type": "markdown",
   "metadata": {},
   "source": [
    "## Qualitative results"
   ]
  },
  {
   "cell_type": "code",
   "execution_count": null,
   "metadata": {},
   "outputs": [],
   "source": []
  }
 ],
 "metadata": {
  "kernelspec": {
   "display_name": "Python 3",
   "language": "python",
   "name": "python3"
  },
  "language_info": {
   "codemirror_mode": {
    "name": "ipython",
    "version": 3
   },
   "file_extension": ".py",
   "mimetype": "text/x-python",
   "name": "python",
   "nbconvert_exporter": "python",
   "pygments_lexer": "ipython3",
   "version": "3.7.3"
  }
 },
 "nbformat": 4,
 "nbformat_minor": 2
}
