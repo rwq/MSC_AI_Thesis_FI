{
 "cells": [
  {
   "cell_type": "code",
   "execution_count": 1,
   "metadata": {},
   "outputs": [],
   "source": [
    "import pandas as pd\n",
    "import pickle\n",
    "import numpy as np\n",
    "import dataloader\n",
    "import torch"
   ]
  },
  {
   "cell_type": "code",
   "execution_count": 2,
   "metadata": {},
   "outputs": [],
   "source": [
    "datasets = ['Adobe240', 'UCF-101', 'Vimeo90k']\n",
    "methods = ['DAIN', 'SepConv', 'QVI', 'QVI_linear']\n",
    "metrics = ['psnr', 'ssim', 'ie']"
   ]
  },
  {
   "cell_type": "markdown",
   "metadata": {},
   "source": [
    "## Datasets"
   ]
  },
  {
   "cell_type": "code",
   "execution_count": null,
   "metadata": {},
   "outputs": [],
   "source": []
  },
  {
   "cell_type": "markdown",
   "metadata": {},
   "source": [
    "## Benchmark"
   ]
  },
  {
   "cell_type": "code",
   "execution_count": 11,
   "metadata": {},
   "outputs": [
    {
     "data": {
      "text/html": [
       "<div>\n",
       "<style scoped>\n",
       "    .dataframe tbody tr th:only-of-type {\n",
       "        vertical-align: middle;\n",
       "    }\n",
       "\n",
       "    .dataframe tbody tr th {\n",
       "        vertical-align: top;\n",
       "    }\n",
       "\n",
       "    .dataframe thead th {\n",
       "        text-align: right;\n",
       "    }\n",
       "</style>\n",
       "<table border=\"1\" class=\"dataframe\">\n",
       "  <thead>\n",
       "    <tr style=\"text-align: right;\">\n",
       "      <th></th>\n",
       "      <th>Adobe240_psnr</th>\n",
       "      <th>Adobe240_ssim</th>\n",
       "      <th>Adobe240_ie</th>\n",
       "      <th>UCF-101_psnr</th>\n",
       "      <th>UCF-101_ssim</th>\n",
       "      <th>UCF-101_ie</th>\n",
       "      <th>Vimeo90k_psnr</th>\n",
       "      <th>Vimeo90k_ssim</th>\n",
       "      <th>Vimeo90k_ie</th>\n",
       "    </tr>\n",
       "  </thead>\n",
       "  <tbody>\n",
       "    <tr>\n",
       "      <th>DAIN</th>\n",
       "      <td>32.153012</td>\n",
       "      <td>0.988339</td>\n",
       "      <td>6.987570</td>\n",
       "      <td>27.878556</td>\n",
       "      <td>0.989216</td>\n",
       "      <td>10.920331</td>\n",
       "      <td>30.567242</td>\n",
       "      <td>0.984594</td>\n",
       "      <td>7.889040</td>\n",
       "    </tr>\n",
       "    <tr>\n",
       "      <th>SepConv</th>\n",
       "      <td>36.155629</td>\n",
       "      <td>0.992890</td>\n",
       "      <td>4.653473</td>\n",
       "      <td>35.559125</td>\n",
       "      <td>0.996604</td>\n",
       "      <td>5.154202</td>\n",
       "      <td>32.811017</td>\n",
       "      <td>0.987650</td>\n",
       "      <td>6.429720</td>\n",
       "    </tr>\n",
       "    <tr>\n",
       "      <th>QVI</th>\n",
       "      <td>34.246344</td>\n",
       "      <td>0.986623</td>\n",
       "      <td>6.210768</td>\n",
       "      <td>35.735078</td>\n",
       "      <td>0.996410</td>\n",
       "      <td>5.217945</td>\n",
       "      <td>36.820013</td>\n",
       "      <td>0.998507</td>\n",
       "      <td>3.547599</td>\n",
       "    </tr>\n",
       "    <tr>\n",
       "      <th>QVI_linear</th>\n",
       "      <td>35.018728</td>\n",
       "      <td>0.992383</td>\n",
       "      <td>5.124491</td>\n",
       "      <td>35.436220</td>\n",
       "      <td>0.996504</td>\n",
       "      <td>5.244211</td>\n",
       "      <td>36.530777</td>\n",
       "      <td>0.998404</td>\n",
       "      <td>3.667721</td>\n",
       "    </tr>\n",
       "  </tbody>\n",
       "</table>\n",
       "</div>"
      ],
      "text/plain": [
       "            Adobe240_psnr  Adobe240_ssim  Adobe240_ie  UCF-101_psnr  \\\n",
       "DAIN            32.153012       0.988339     6.987570     27.878556   \n",
       "SepConv         36.155629       0.992890     4.653473     35.559125   \n",
       "QVI             34.246344       0.986623     6.210768     35.735078   \n",
       "QVI_linear      35.018728       0.992383     5.124491     35.436220   \n",
       "\n",
       "            UCF-101_ssim  UCF-101_ie  Vimeo90k_psnr  Vimeo90k_ssim  \\\n",
       "DAIN            0.989216   10.920331      30.567242       0.984594   \n",
       "SepConv         0.996604    5.154202      32.811017       0.987650   \n",
       "QVI             0.996410    5.217945      36.820013       0.998507   \n",
       "QVI_linear      0.996504    5.244211      36.530777       0.998404   \n",
       "\n",
       "            Vimeo90k_ie  \n",
       "DAIN           7.889040  \n",
       "SepConv        6.429720  \n",
       "QVI            3.547599  \n",
       "QVI_linear     3.667721  "
      ]
     },
     "execution_count": 11,
     "metadata": {},
     "output_type": "execute_result"
    }
   ],
   "source": [
    "with open('results_new.pkl', 'rb') as f:\n",
    "    r = pickle.load(f)\n",
    "\n",
    "df = pd.DataFrame()\n",
    "\n",
    "for dataset in datasets:\n",
    "    for metric in metrics:\n",
    "        df[f'{dataset}_{metric}'] = [np.mean(r[mtd][dataset][metric]) for mtd in methods]\n",
    "\n",
    "df.index = methods\n",
    "df"
   ]
  },
  {
   "cell_type": "markdown",
   "metadata": {},
   "source": [
    "## Qualitative results"
   ]
  },
  {
   "cell_type": "code",
   "execution_count": null,
   "metadata": {},
   "outputs": [],
   "source": []
  }
 ],
 "metadata": {
  "kernelspec": {
   "display_name": "Python 3",
   "language": "python",
   "name": "python3"
  },
  "language_info": {
   "codemirror_mode": {
    "name": "ipython",
    "version": 3
   },
   "file_extension": ".py",
   "mimetype": "text/x-python",
   "name": "python",
   "nbconvert_exporter": "python",
   "pygments_lexer": "ipython3",
   "version": "3.7.3"
  }
 },
 "nbformat": 4,
 "nbformat_minor": 2
}
